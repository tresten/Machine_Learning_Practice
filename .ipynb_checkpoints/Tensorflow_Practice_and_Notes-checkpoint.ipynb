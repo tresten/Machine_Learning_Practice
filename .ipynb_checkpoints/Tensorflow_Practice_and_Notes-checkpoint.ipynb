{
 "cells": [
  {
   "cell_type": "markdown",
   "metadata": {},
   "source": [
    "#### The following code is example of how to train a linear regression model using tensorflow core:"
   ]
  },
  {
   "cell_type": "code",
   "execution_count": 12,
   "metadata": {
    "collapsed": true
   },
   "outputs": [],
   "source": [
    "import tensorflow as tf\n",
    "\n",
    "# Make the weights and baises\n",
    "W = tf.Variable([.3], dtype=tf.float32)\n",
    "b = tf.Variable([-.3], dtype=tf.float32)"
   ]
  },
  {
   "cell_type": "code",
   "execution_count": 13,
   "metadata": {
    "collapsed": true
   },
   "outputs": [],
   "source": [
    "#Make x be inputs and y be the expected outputs in order to train\n",
    "x = tf.placeholder(tf.float32)\n",
    "linear_model = W * x + b\n",
    "y = tf.placeholder(tf.float32)\n",
    "#Set your input data andexpected output data\n",
    "x_train = [1, 2, 3, 4]\n",
    "y_train = [0, -1, -2, -3]"
   ]
  },
  {
   "cell_type": "code",
   "execution_count": 14,
   "metadata": {
    "collapsed": true
   },
   "outputs": [],
   "source": [
    "# Make loss function and put it into gradient descent to be reduced\n",
    "loss = tf.reduce_sum(tf.square(linear_model - y)) # sum of the squares\n",
    "# initalize optimizer with learning rate\n",
    "optimizer = tf.train.GradientDescentOptimizer(0.01)\n",
    "train = optimizer.minimize(loss)"
   ]
  },
  {
   "cell_type": "code",
   "execution_count": 15,
   "metadata": {
    "collapsed": true
   },
   "outputs": [],
   "source": [
    "# initalize variables and make a session\n",
    "init = tf.global_variables_initializer()\n",
    "sess = tf.Session()\n",
    "sess.run(init) "
   ]
  },
  {
   "cell_type": "code",
   "execution_count": 16,
   "metadata": {},
   "outputs": [
    {
     "name": "stdout",
     "output_type": "stream",
     "text": [
      "W: [-0.9999969] b: [ 0.99999082] loss: 5.69997e-11\n"
     ]
    }
   ],
   "source": [
    "#run training session with 1000 epoch's \n",
    "for i in range(1000):\n",
    "  sess.run(train, {x: x_train, y: y_train})\n",
    "\n",
    "# evaluate training accuracy\n",
    "curr_W, curr_b, curr_loss = sess.run([W, b, loss], {x: x_train, y: y_train})\n",
    "print(\"W: %s b: %s loss: %s\"%(curr_W, curr_b, curr_loss))"
   ]
  },
  {
   "cell_type": "markdown",
   "metadata": {},
   "source": [
    "#### The following code is example of how to train a linear regression model using tensorflow estimator (higher level of abstratction):"
   ]
  },
  {
   "cell_type": "code",
   "execution_count": 17,
   "metadata": {},
   "outputs": [
    {
     "name": "stdout",
     "output_type": "stream",
     "text": [
      "INFO:tensorflow:Using default config.\n",
      "WARNING:tensorflow:Using temporary folder as model directory: C:\\Users\\trest\\AppData\\Local\\Temp\\tmp66szg7us\n",
      "INFO:tensorflow:Using config: {'_save_summary_steps': 100, '_session_config': None, '_keep_checkpoint_every_n_hours': 10000, '_save_checkpoints_secs': 600, '_save_checkpoints_steps': None, '_keep_checkpoint_max': 5, '_tf_random_seed': 1, '_log_step_count_steps': 100, '_model_dir': 'C:\\\\Users\\\\trest\\\\AppData\\\\Local\\\\Temp\\\\tmp66szg7us'}\n",
      "INFO:tensorflow:Create CheckpointSaverHook.\n",
      "INFO:tensorflow:Saving checkpoints for 1 into C:\\Users\\trest\\AppData\\Local\\Temp\\tmp66szg7us\\model.ckpt.\n",
      "INFO:tensorflow:loss = 10.0, step = 1\n",
      "INFO:tensorflow:global_step/sec: 683.5\n",
      "INFO:tensorflow:loss = 0.0616257, step = 101 (0.146 sec)\n",
      "INFO:tensorflow:global_step/sec: 976.375\n",
      "INFO:tensorflow:loss = 0.0128946, step = 201 (0.102 sec)\n",
      "INFO:tensorflow:global_step/sec: 846.233\n",
      "INFO:tensorflow:loss = 0.00500665, step = 301 (0.118 sec)\n",
      "INFO:tensorflow:global_step/sec: 1161.35\n",
      "INFO:tensorflow:loss = 0.00163519, step = 401 (0.102 sec)\n",
      "INFO:tensorflow:global_step/sec: 871.558\n",
      "INFO:tensorflow:loss = 0.000104455, step = 501 (0.099 sec)\n",
      "INFO:tensorflow:global_step/sec: 1014.38\n",
      "INFO:tensorflow:loss = 1.56641e-05, step = 601 (0.099 sec)\n",
      "INFO:tensorflow:global_step/sec: 993.461\n",
      "INFO:tensorflow:loss = 9.82564e-07, step = 701 (0.101 sec)\n",
      "INFO:tensorflow:global_step/sec: 984.504\n",
      "INFO:tensorflow:loss = 2.49144e-07, step = 801 (0.102 sec)\n",
      "INFO:tensorflow:global_step/sec: 866.085\n",
      "INFO:tensorflow:loss = 4.77869e-08, step = 901 (0.115 sec)\n",
      "INFO:tensorflow:Saving checkpoints for 1000 into C:\\Users\\trest\\AppData\\Local\\Temp\\tmp66szg7us\\model.ckpt.\n",
      "INFO:tensorflow:Loss for final step: 3.66504e-09.\n",
      "INFO:tensorflow:Starting evaluation at 2017-10-26-00:30:01\n",
      "INFO:tensorflow:Restoring parameters from C:\\Users\\trest\\AppData\\Local\\Temp\\tmp66szg7us\\model.ckpt-1000\n",
      "INFO:tensorflow:Finished evaluation at 2017-10-26-00:30:02\n",
      "INFO:tensorflow:Saving dict for global step 1000: average_loss = 1.81534e-09, global_step = 1000, loss = 7.26138e-09\n",
      "INFO:tensorflow:Starting evaluation at 2017-10-26-00:30:03\n",
      "INFO:tensorflow:Restoring parameters from C:\\Users\\trest\\AppData\\Local\\Temp\\tmp66szg7us\\model.ckpt-1000\n",
      "INFO:tensorflow:Finished evaluation at 2017-10-26-00:30:03\n",
      "INFO:tensorflow:Saving dict for global step 1000: average_loss = 0.00252857, global_step = 1000, loss = 0.0101143\n",
      "train metrics: {'global_step': 1000, 'average_loss': 1.815344e-09, 'loss': 7.2613759e-09}\n",
      "eval metrics: {'global_step': 1000, 'average_loss': 0.0025285734, 'loss': 0.010114294}\n"
     ]
    }
   ],
   "source": [
    "import tensorflow as tf\n",
    "# NumPy is often used to load, manipulate and preprocess data.\n",
    "import numpy as np\n",
    "\n",
    "# Declare list of features. We only have one numeric feature. There are many\n",
    "# other types of columns that are more complicated and useful.\n",
    "feature_columns = [tf.feature_column.numeric_column(\"x\", shape=[1])]\n",
    "\n",
    "# An estimator is the front end to invoke training (fitting) and evaluation\n",
    "# (inference). There are many predefined types like linear regression,\n",
    "# linear classification, and many neural network classifiers and regressors.\n",
    "# The following code provides an estimator that does linear regression.\n",
    "estimator = tf.estimator.LinearRegressor(feature_columns=feature_columns)\n",
    "\n",
    "# TensorFlow provides many helper methods to read and set up data sets.\n",
    "# Here we use two data sets: one for training and one for evaluation\n",
    "# We have to tell the function how many batches\n",
    "# of data (num_epochs) we want and how big each batch should be.\n",
    "x_train = np.array([1., 2., 3., 4.])\n",
    "y_train = np.array([0., -1., -2., -3.])\n",
    "x_eval = np.array([2., 5., 8., 1.])\n",
    "y_eval = np.array([-1.01, -4.1, -7, 0.])\n",
    "input_fn = tf.estimator.inputs.numpy_input_fn(\n",
    "    {\"x\": x_train}, y_train, batch_size=4, num_epochs=None, shuffle=True)\n",
    "train_input_fn = tf.estimator.inputs.numpy_input_fn(\n",
    "    {\"x\": x_train}, y_train, batch_size=4, num_epochs=1000, shuffle=False)\n",
    "eval_input_fn = tf.estimator.inputs.numpy_input_fn(\n",
    "    {\"x\": x_eval}, y_eval, batch_size=4, num_epochs=1000, shuffle=False)\n",
    "\n",
    "# We can invoke 1000 training steps by invoking the  method and passing the\n",
    "# training data set.\n",
    "estimator.train(input_fn=input_fn, steps=1000)\n",
    "\n",
    "# Here we evaluate how well our model did.\n",
    "train_metrics = estimator.evaluate(input_fn=train_input_fn)\n",
    "eval_metrics = estimator.evaluate(input_fn=eval_input_fn)\n",
    "print(\"train metrics: %r\"% train_metrics)\n",
    "print(\"eval metrics: %r\"% eval_metrics)"
   ]
  },
  {
   "cell_type": "markdown",
   "metadata": {},
   "source": [
    "### Mnist Reader"
   ]
  },
  {
   "cell_type": "code",
   "execution_count": null,
   "metadata": {
    "collapsed": true
   },
   "outputs": [],
   "source": []
  },
  {
   "cell_type": "markdown",
   "metadata": {
    "collapsed": true
   },
   "source": [
    "## Cheat Sheet"
   ]
  },
  {
   "cell_type": "code",
   "execution_count": 10,
   "metadata": {
    "slideshow": {
     "slide_type": "-"
    }
   },
   "outputs": [
    {
     "data": {
      "text/plain": [
       "array([ 3.,  7.], dtype=float32)"
      ]
     },
     "execution_count": 10,
     "metadata": {},
     "output_type": "execute_result"
    }
   ],
   "source": [
    "#make a session and run it\n",
    "sess=tf.session\n",
    "sess.run()\n",
    "\n",
    "#make const\n",
    "c_float= tf.constant(0.0)\n",
    "c_integer=tf.constant(0)\n",
    "#make variable\n",
    "a = tf.placeholder(tf.float32)\n",
    "b = tf.placeholder(tf.float32)\n",
    "\n",
    "#initalize variables\n",
    "init = tf.global_variables_initializer()\n",
    "sess.run(init)\n",
    "\n",
    "#make placeholder (takes in a map to initalize placeholders when session is ran)\n",
    "W = tf.Variable([.3], dtype=tf.float32)\n",
    "b = tf.Variable([-.3], dtype=tf.float32)\n",
    "x = tf.placeholder(tf.float32)\n",
    "linear_model = W * x + b\n",
    "sess.run(linear_model, {x: [1, 2, 3, 4]})\n",
    "\n",
    "#tensor flow equivalent to a lambda variable/ higher order function\n",
    "adder_node = a + b \n",
    "add_and_triple = adder_node * 3.\n",
    "\n",
    "#pass in variables to run session and some function (adder_node in this case)\n",
    "sess.run(adder_node, {a: 3, b: 4.5})\n",
    "sess.run(adder_node, {a: [1, 3], b: [2, 4]})\n",
    "\n",
    "#make optimization model and pass it some cost function\n",
    "\n"
   ]
  },
  {
   "cell_type": "code",
   "execution_count": null,
   "metadata": {
    "collapsed": true
   },
   "outputs": [],
   "source": []
  }
 ],
 "metadata": {
  "kernelspec": {
   "display_name": "Python 3",
   "language": "python",
   "name": "python3"
  },
  "language_info": {
   "codemirror_mode": {
    "name": "ipython",
    "version": 3
   },
   "file_extension": ".py",
   "mimetype": "text/x-python",
   "name": "python",
   "nbconvert_exporter": "python",
   "pygments_lexer": "ipython3",
   "version": "3.5.4"
  }
 },
 "nbformat": 4,
 "nbformat_minor": 2
}
